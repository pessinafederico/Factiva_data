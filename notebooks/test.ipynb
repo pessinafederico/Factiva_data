{
 "cells": [
  {
   "cell_type": "code",
   "execution_count": 1,
   "metadata": {},
   "outputs": [],
   "source": [
    "import subprocess\n",
    "import time\n",
    "from selenium import webdriver\n",
    "from selenium.webdriver.chrome.service import Service\n",
    "from selenium.webdriver.chrome.options import Options\n",
    "from selenium.webdriver.common.by import By\n",
    "from selenium.webdriver.support.ui import WebDriverWait\n",
    "from selenium.webdriver.support import expected_conditions as EC\n",
    "from selenium.webdriver.support.ui import Select\n",
    "import re"
   ]
  },
  {
   "cell_type": "code",
   "execution_count": 2,
   "metadata": {},
   "outputs": [
    {
     "name": "stdout",
     "output_type": "stream",
     "text": [
      "Chrome launched. Log in manually, then press Enter to continue...\n"
     ]
    },
    {
     "name": "stderr",
     "output_type": "stream",
     "text": [
      "[6755:4062982:0527/223334.166271:ERROR:net/cert/internal/trust_store_mac.cc:817] Error parsing certificate:\n",
      "ERROR: Failed parsing extensions\n",
      "\n",
      "\n",
      "DevTools listening on ws://127.0.0.1:9222/devtools/browser/1dc4aea1-6467-49dd-bb46-c3dd58ea52e9\n",
      "[6755:4062959:0527/223337.381320:ERROR:chrome/browser/policy/cloud/fm_registration_token_uploader.cc:179] Client is missing for kUser scope\n",
      "WARNING: All log messages before absl::InitializeLog() is called are written to STDERR\n",
      "I0000 00:00:1748381617.430047 4062985 voice_transcription.cc:58] Registering VoiceTranscriptionCapability\n",
      "Trying to load the allocator multiple times. This is *not* supported.\n",
      "[6755:4062986:0527/223337.477643:ERROR:google_apis/gcm/engine/registration_request.cc:291] Registration response error message: DEPRECATED_ENDPOINT\n",
      "Created TensorFlow Lite XNNPACK delegate for CPU.\n",
      "Attempting to use a delegate that only supports static-sized tensors with a graph that has dynamic-sized tensors (tensor#-1 is a dynamic-sized tensor).\n"
     ]
    },
    {
     "data": {
      "text/plain": [
       "''"
      ]
     },
     "execution_count": 2,
     "metadata": {},
     "output_type": "execute_result"
    }
   ],
   "source": [
    "# Define paths\n",
    "chrome_path = \"/Applications/Google Chrome.app/Contents/MacOS/Google Chrome\"\n",
    "user_data_dir = \"/Users/federicopessina/ChromeProfile\"  # Use a dedicated folder\n",
    "remote_debugging_port = \"9222\"\n",
    "factiva_url = \"https://librarysearch.lse.ac.uk/discovery/fulldisplay?vid=44LSE_INST:44LSE_VU1&tab=Everything&docid=alma99129371110302021&context=L&search_scope=MyInstitution&lang=en\"\n",
    "\n",
    "# Launch Chrome with remote debugging\n",
    "subprocess.Popen([\n",
    "    chrome_path,\n",
    "    f\"--remote-debugging-port={remote_debugging_port}\",\n",
    "    f\"--user-data-dir={user_data_dir}\",\n",
    "    factiva_url\n",
    "])\n",
    "\n",
    "# Give time for Chrome to open and for you to log in\n",
    "print(\"Chrome launched. Log in manually, then press Enter to continue...\")\n",
    "input()"
   ]
  },
  {
   "cell_type": "code",
   "execution_count": 3,
   "metadata": {},
   "outputs": [],
   "source": [
    "options = Options()\n",
    "options.add_experimental_option(\"debuggerAddress\", \"localhost:9222\")\n",
    "\n",
    "# Adjust path to your chromedriver\n",
    "service = Service(\"/opt/homebrew/bin/chromedriver\")\n",
    "driver = webdriver.Chrome(service=service, options=options)\n",
    "\n",
    "time.sleep(3)"
   ]
  },
  {
   "cell_type": "code",
   "execution_count": 4,
   "metadata": {},
   "outputs": [
    {
     "name": "stdout",
     "output_type": "stream",
     "text": [
      "https://global-factiva-com.lse.idm.oclc.org/sb/default.aspx?lnep=hp\n",
      "1\n",
      "1\n",
      "1\n",
      "https://global-factiva-com.lse.idm.oclc.org/sb/default.aspx?lnep=hp\n"
     ]
    }
   ],
   "source": [
    "print(driver.current_url)\n",
    "print(len(driver.find_elements(By.ID, \"dr\")))  # dropdown\n",
    "print(len(driver.find_elements(By.ID, \"frd\"))) # from-day field\n",
    "print(len(driver.find_elements(By.ID, \"laTab\"))) # language tab\n",
    "driver.switch_to.window(driver.window_handles[-1])  # last tab\n",
    "print(driver.current_url)"
   ]
  },
  {
   "cell_type": "code",
   "execution_count": 5,
   "metadata": {},
   "outputs": [],
   "source": [
    "#### Change the date range ####\n",
    "data_range = {'Start': '2020-01-01', 'End': '2020-03-01'}\n",
    "start_day, start_month, start_year = data_range['Start'].split('-')[2], data_range['Start'].split('-')[1], data_range['Start'].split('-')[0]\n",
    "end_day, end_month, end_year = data_range['End'].split('-')[2], data_range['End'].split('-')[1], data_range['End'].split('-')[0]\n",
    "\n",
    "time.sleep(2)\n",
    "\n",
    "# Select \"Custom\" date range\n",
    "select = Select(driver.find_element(By.ID, \"dr\"))\n",
    "select.select_by_visible_text(\"Enter date range...\")\n",
    "time.sleep(1.5)\n",
    "\n",
    "# Fill in \"From\" date fields\n",
    "driver.find_element(By.ID, 'frd').clear()\n",
    "driver.find_element(By.ID, 'frd').send_keys(start_day)\n",
    "\n",
    "driver.find_element(By.ID, 'frm').clear()\n",
    "driver.find_element(By.ID, 'frm').send_keys(start_month)\n",
    "\n",
    "driver.find_element(By.ID, 'fry').clear()\n",
    "driver.find_element(By.ID, 'fry').send_keys(start_year)\n",
    "\n",
    "# Fill in \"To\" date fields\n",
    "driver.find_element(By.ID, 'tod').clear()\n",
    "driver.find_element(By.ID, 'tod').send_keys(end_day)\n",
    "\n",
    "driver.find_element(By.ID, 'tom').clear()\n",
    "driver.find_element(By.ID, 'tom').send_keys(end_month)\n",
    "\n",
    "driver.find_element(By.ID, 'toy').clear()\n",
    "driver.find_element(By.ID, 'toy').send_keys(end_year)\n",
    "\n"
   ]
  },
  {
   "cell_type": "code",
   "execution_count": 6,
   "metadata": {},
   "outputs": [
    {
     "name": "stderr",
     "output_type": "stream",
     "text": [
      "[6755:4062986:0527/223405.503164:ERROR:google_apis/gcm/engine/registration_request.cc:291] Registration response error message: DEPRECATED_ENDPOINT\n"
     ]
    }
   ],
   "source": [
    "#### Change language ####\n",
    "time.sleep(2)\n",
    "driver.find_element(By.ID, \"laTab\").click()\n",
    "time.sleep(2)\n",
    "english_link = driver.find_element(By.XPATH, \"//a[text()='English' and @class='mnuItm']\")\n",
    "driver.execute_script(\"arguments[0].click();\", english_link)"
   ]
  },
  {
   "cell_type": "code",
   "execution_count": 8,
   "metadata": {},
   "outputs": [
    {
     "name": "stderr",
     "output_type": "stream",
     "text": [
      "[6755:4062986:0527/223451.587855:ERROR:google_apis/gcm/engine/registration_request.cc:291] Registration response error message: DEPRECATED_ENDPOINT\n"
     ]
    }
   ],
   "source": [
    "#### Change region ####\n",
    "time.sleep(2)\n",
    "driver.find_element(By.XPATH, \"//a[text()='Region' and contains(@class, 'fesTabLinkFix')]\").click()\n",
    "time.sleep(2)\n",
    "\n",
    "# 2. Type \"United Kingdom\" in the search box\n",
    "region_input = driver.find_element(By.ID, \"reTxt\")\n",
    "region_input.clear()\n",
    "region_input.send_keys(\"United Kingdom\")\n",
    "time.sleep(2)  # wait for dropdown to appear\n",
    "\n",
    "# 3. Click button\n",
    "driver.find_element(By.ID, \"reLkp\").click()\n",
    "time.sleep(4)\n",
    "\n",
    "# 4 find uk in list and click it\n",
    "driver.find_element(By.XPATH, \"//a[text()='United Kingdom' and contains(@class, 'mnuItm')]\").click()\n",
    "time.sleep(2)"
   ]
  },
  {
   "cell_type": "code",
   "execution_count": 9,
   "metadata": {},
   "outputs": [],
   "source": [
    "#### Industry ####\n",
    "driver.find_element(By.XPATH, \"//a[text()='Industry' and contains(@class, 'fesTabLinkFix')]\").click()\n",
    "time.sleep(2)\n",
    "\n",
    "# 2. Type \"Agriculture\" in the input box\n",
    "industry_input = driver.find_element(By.ID, \"inTxt\")\n",
    "industry_input.clear()\n",
    "industry_input.send_keys(\"Agriculture\")\n",
    "time.sleep(2)\n",
    "\n",
    "# 3. Click the blue play/search icon\n",
    "driver.find_element(By.ID, \"inLkp\").click()\n",
    "time.sleep(2)\n",
    "\n",
    "# 4. Click the \"Agriculture\" result\n",
    "driver.find_element(By.XPATH, \"//a[text()='Agriculture' and contains(@class, 'mnuItm')]\").click()\n",
    "time.sleep(2)"
   ]
  },
  {
   "cell_type": "code",
   "execution_count": 10,
   "metadata": {},
   "outputs": [
    {
     "name": "stdout",
     "output_type": "stream",
     "text": [
      "Selected via suggestion: Commodity/Financial Market News\n",
      "Selected via suggestion: Corporate/Industrial News\n",
      "Selected via suggestion: Economic News\n"
     ]
    }
   ],
   "source": [
    "#### Subject ####\n",
    "\n",
    "# Apply to all desired subjects\n",
    "subjects_to_add = [\n",
    "    \"Commodity/Financial Market News\",\n",
    "    \"Corporate/Industrial News\",\n",
    "    \"Economic News\"\n",
    "]\n",
    "\n",
    "def add_subject(subject_name):\n",
    "    # Ensure the Subject tab is open before calling this\n",
    "    subject_input = driver.find_element(By.ID, \"nsTxt\")\n",
    "    subject_input.clear()\n",
    "    subject_input.send_keys(subject_name)\n",
    "    time.sleep(2)\n",
    "\n",
    "    # Try clicking suggestion (strong) first\n",
    "    try:\n",
    "        driver.find_element(By.XPATH, f\"//strong[text()='{subject_name}']/ancestor::td\").click()\n",
    "        print(f\"Selected via suggestion: {subject_name}\")\n",
    "    except:\n",
    "        # Fallback: click direct <a> tag\n",
    "        driver.find_element(By.XPATH, f\"//a[text()='{subject_name}' and contains(@class, 'mnuItm')]\").click()\n",
    "        print(f\"Selected via <a>: {subject_name}\")\n",
    "    time.sleep(2)\n",
    "    \n",
    "    \n",
    "# Step 1: Open the Subject tab once\n",
    "driver.find_element(By.XPATH, \"//a[text()='Subject' and contains(@class, 'fesTabLinkFix')]\").click()\n",
    "time.sleep(2)\n",
    "\n",
    "for s in subjects_to_add:\n",
    "    add_subject(s)\n",
    "    \n",
    "# Step 3 (optional): Close the Subject tab by clicking it again\n",
    "driver.find_element(By.XPATH, \"//a[text()='Subject' and contains(@class, 'fesTabLinkFix')]\").click()\n",
    "time.sleep(2)"
   ]
  },
  {
   "cell_type": "code",
   "execution_count": 11,
   "metadata": {},
   "outputs": [],
   "source": [
    "# Add key search terms in search box at the top\n",
    "driver.execute_script(\"\"\"\n",
    "    let editor = ace.edit(document.getElementsByClassName('ace_editor')[0]);\n",
    "    editor.setValue('rst=tukn');\n",
    "\"\"\")\n"
   ]
  },
  {
   "cell_type": "code",
   "execution_count": 12,
   "metadata": {},
   "outputs": [],
   "source": [
    "# Remove some of the \"more options\"\n",
    "\n",
    "driver.find_element(By.XPATH, \"//a[contains(text(), 'More Options')]\").click()\n",
    "time.sleep(2)\n",
    "\n",
    "# Check the box if not already checked\n",
    "checkbox = driver.find_element(By.ID, \"isteo_bool\")\n",
    "if not checkbox.is_selected():\n",
    "    checkbox.click()\n",
    "    time.sleep(2)"
   ]
  },
  {
   "cell_type": "code",
   "execution_count": 13,
   "metadata": {},
   "outputs": [
    {
     "name": "stderr",
     "output_type": "stream",
     "text": [
      "[6755:4062986:0527/223650.300848:ERROR:google_apis/gcm/engine/registration_request.cc:291] Registration response error message: DEPRECATED_ENDPOINT\n"
     ]
    }
   ],
   "source": [
    "# Click the search button at the bottom\n",
    "time.sleep(2)\n",
    "driver.find_element(By.XPATH, '//*[@id=\"btnSearchBottom\"]').click()\n",
    "time.sleep(7)"
   ]
  }
 ],
 "metadata": {
  "kernelspec": {
   "display_name": "data_science_env",
   "language": "python",
   "name": "python3"
  },
  "language_info": {
   "codemirror_mode": {
    "name": "ipython",
    "version": 3
   },
   "file_extension": ".py",
   "mimetype": "text/x-python",
   "name": "python",
   "nbconvert_exporter": "python",
   "pygments_lexer": "ipython3",
   "version": "3.12.0"
  }
 },
 "nbformat": 4,
 "nbformat_minor": 2
}
