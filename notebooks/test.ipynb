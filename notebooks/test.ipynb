{
 "cells": [
  {
   "cell_type": "code",
   "execution_count": 1,
   "metadata": {},
   "outputs": [],
   "source": [
    "import subprocess\n",
    "import time\n",
    "from selenium import webdriver\n",
    "from selenium.webdriver.chrome.service import Service\n",
    "from selenium.webdriver.chrome.options import Options\n",
    "from selenium.webdriver.common.by import By\n",
    "from selenium.webdriver.support.ui import WebDriverWait\n",
    "from selenium.webdriver.support import expected_conditions as EC\n",
    "from selenium.webdriver.support.ui import Select\n",
    "import re\n",
    "import csv\n",
    "import os"
   ]
  },
  {
   "cell_type": "code",
   "execution_count": 2,
   "metadata": {},
   "outputs": [
    {
     "name": "stdout",
     "output_type": "stream",
     "text": [
      "Chrome launched. Log in manually, then press Enter to continue...\n"
     ]
    },
    {
     "name": "stderr",
     "output_type": "stream",
     "text": [
      "[47060:4987576:0529/093213.714507:ERROR:net/cert/internal/trust_store_mac.cc:817] Error parsing certificate:\n",
      "ERROR: Failed parsing extensions\n",
      "\n",
      "\n",
      "DevTools listening on ws://127.0.0.1:9222/devtools/browser/d99ab401-e956-4c91-865c-55e6f43c17d5\n",
      "[47060:4987519:0529/093217.985399:ERROR:chrome/browser/policy/cloud/fm_registration_token_uploader.cc:179] Client is missing for kUser scope\n",
      "WARNING: All log messages before absl::InitializeLog() is called are written to STDERR\n",
      "I0000 00:00:1748507538.008801 4987563 voice_transcription.cc:58] Registering VoiceTranscriptionCapability\n",
      "Trying to load the allocator multiple times. This is *not* supported.\n",
      "Created TensorFlow Lite XNNPACK delegate for CPU.\n",
      "Attempting to use a delegate that only supports static-sized tensors with a graph that has dynamic-sized tensors (tensor#-1 is a dynamic-sized tensor).\n",
      "[47060:4987566:0529/093218.093768:ERROR:google_apis/gcm/engine/registration_request.cc:291] Registration response error message: DEPRECATED_ENDPOINT\n"
     ]
    },
    {
     "data": {
      "text/plain": [
       "''"
      ]
     },
     "execution_count": 2,
     "metadata": {},
     "output_type": "execute_result"
    }
   ],
   "source": [
    "# Define paths\n",
    "chrome_path = \"/Applications/Google Chrome.app/Contents/MacOS/Google Chrome\"\n",
    "user_data_dir = \"/Users/federicopessina/ChromeProfile\"  # Use a dedicated folder\n",
    "remote_debugging_port = \"9222\"\n",
    "factiva_url = \"https://librarysearch.lse.ac.uk/discovery/fulldisplay?vid=44LSE_INST:44LSE_VU1&tab=Everything&docid=alma99129371110302021&context=L&search_scope=MyInstitution&lang=en\"\n",
    "\n",
    "# Launch Chrome with remote debugging\n",
    "subprocess.Popen([\n",
    "    chrome_path,\n",
    "    f\"--remote-debugging-port={remote_debugging_port}\",\n",
    "    f\"--user-data-dir={user_data_dir}\",\n",
    "    factiva_url\n",
    "])\n",
    "\n",
    "# Give time for Chrome to open and for you to log in\n",
    "print(\"Chrome launched. Log in manually, then press Enter to continue...\")\n",
    "input()\n"
   ]
  },
  {
   "cell_type": "code",
   "execution_count": 3,
   "metadata": {},
   "outputs": [
    {
     "name": "stderr",
     "output_type": "stream",
     "text": [
      "[47060:4987566:0529/093244.831730:ERROR:google_apis/gcm/engine/registration_request.cc:291] Registration response error message: DEPRECATED_ENDPOINT\n"
     ]
    }
   ],
   "source": [
    "options = Options()\n",
    "options.add_experimental_option(\"debuggerAddress\", \"localhost:9222\")\n",
    "\n",
    "# Adjust path to your chromedriver\n",
    "service = Service(\"/opt/homebrew/bin/chromedriver\")\n",
    "driver = webdriver.Chrome(service=service, options=options)\n",
    "\n",
    "time.sleep(3)"
   ]
  },
  {
   "cell_type": "code",
   "execution_count": 14,
   "metadata": {},
   "outputs": [
    {
     "name": "stdout",
     "output_type": "stream",
     "text": [
      "https://global-factiva-com.lse.idm.oclc.org/sb/default.aspx?lnep=hp\n",
      "1\n",
      "1\n",
      "1\n",
      "https://global-factiva-com.lse.idm.oclc.org/sb/default.aspx?lnep=hp\n"
     ]
    }
   ],
   "source": [
    "print(driver.current_url)\n",
    "print(len(driver.find_elements(By.ID, \"dr\")))  # dropdown\n",
    "print(len(driver.find_elements(By.ID, \"frd\"))) # from-day field\n",
    "print(len(driver.find_elements(By.ID, \"laTab\"))) # language tab\n",
    "#driver.switch_to.window(driver.window_handles[-1])  # last tab\n",
    "print(driver.current_url)"
   ]
  },
  {
   "cell_type": "code",
   "execution_count": 4,
   "metadata": {},
   "outputs": [],
   "source": [
    "#### Change the date range ####\n",
    "date_range = {'Start': '2020-01-01', 'End': '2020-01-07'}\n",
    "start_day, start_month, start_year = date_range['Start'].split('-')[2], date_range['Start'].split('-')[1], date_range['Start'].split('-')[0]\n",
    "end_day, end_month, end_year = date_range['End'].split('-')[2], date_range['End'].split('-')[1], date_range['End'].split('-')[0]\n",
    "\n",
    "time.sleep(4)\n",
    "\n",
    "# Select \"Custom\" date range\n",
    "select = Select(driver.find_element(By.ID, \"dr\"))\n",
    "select.select_by_visible_text(\"Enter date range...\")\n",
    "time.sleep(1.5)\n",
    "\n",
    "# Fill in \"From\" date fields\n",
    "driver.find_element(By.ID, 'frd').clear()\n",
    "driver.find_element(By.ID, 'frd').send_keys(start_day)\n",
    "\n",
    "driver.find_element(By.ID, 'frm').clear()\n",
    "driver.find_element(By.ID, 'frm').send_keys(start_month)\n",
    "\n",
    "driver.find_element(By.ID, 'fry').clear()\n",
    "driver.find_element(By.ID, 'fry').send_keys(start_year)\n",
    "\n",
    "# Fill in \"To\" date fields\n",
    "driver.find_element(By.ID, 'tod').clear()\n",
    "driver.find_element(By.ID, 'tod').send_keys(end_day)\n",
    "\n",
    "driver.find_element(By.ID, 'tom').clear()\n",
    "driver.find_element(By.ID, 'tom').send_keys(end_month)\n",
    "\n",
    "driver.find_element(By.ID, 'toy').clear()\n",
    "driver.find_element(By.ID, 'toy').send_keys(end_year)\n",
    "\n"
   ]
  },
  {
   "cell_type": "code",
   "execution_count": 16,
   "metadata": {},
   "outputs": [
    {
     "name": "stderr",
     "output_type": "stream",
     "text": [
      "[21121:4365836:0528/132612.097212:ERROR:google_apis/gcm/engine/registration_request.cc:291] Registration response error message: DEPRECATED_ENDPOINT\n"
     ]
    }
   ],
   "source": [
    "#### Change language ####\n",
    "time.sleep(4)\n",
    "driver.find_element(By.ID, \"laTab\").click()\n",
    "time.sleep(4)\n",
    "english_link = driver.find_element(By.XPATH, \"//a[text()='English' and @class='mnuItm']\")\n",
    "driver.execute_script(\"arguments[0].click();\", english_link)"
   ]
  },
  {
   "cell_type": "code",
   "execution_count": 17,
   "metadata": {},
   "outputs": [],
   "source": [
    "#### Change region ####\n",
    "time.sleep(4)\n",
    "driver.find_element(By.XPATH, \"//a[text()='Region' and contains(@class, 'fesTabLinkFix')]\").click()\n",
    "time.sleep(4)\n",
    "\n",
    "# 2. Type \"United Kingdom\" in the search box\n",
    "region_input = driver.find_element(By.ID, \"reTxt\")\n",
    "region_input.clear()\n",
    "region_input.send_keys(\"United Kingdom\")\n",
    "time.sleep(4)  # wait for dropdown to appear\n",
    "\n",
    "# 3. Click button\n",
    "driver.find_element(By.ID, \"reLkp\").click()\n",
    "time.sleep(4)\n",
    "\n",
    "# 4 find uk in list and click it\n",
    "driver.find_element(By.XPATH, \"//a[text()='United Kingdom' and contains(@class, 'mnuItm')]\").click()\n",
    "time.sleep(4)"
   ]
  },
  {
   "cell_type": "code",
   "execution_count": null,
   "metadata": {},
   "outputs": [
    {
     "name": "stderr",
     "output_type": "stream",
     "text": [
      "[47060:4987566:0529/093342.281980:ERROR:google_apis/gcm/engine/registration_request.cc:291] Registration response error message: DEPRECATED_ENDPOINT\n"
     ]
    },
    {
     "ename": "ElementNotInteractableException",
     "evalue": "Message: element not interactable\n  (Session info: chrome=137.0.7151.41)\nStacktrace:\n0   chromedriver                        0x00000001048a03e0 cxxbridge1$str$ptr + 2829900\n1   chromedriver                        0x00000001048986a8 cxxbridge1$str$ptr + 2797844\n2   chromedriver                        0x00000001043d5e30 cxxbridge1$string$len + 89744\n3   chromedriver                        0x0000000104414cfc cxxbridge1$string$len + 347484\n4   chromedriver                        0x00000001044129a0 cxxbridge1$string$len + 338432\n5   chromedriver                        0x000000010445e044 cxxbridge1$string$len + 647332\n6   chromedriver                        0x00000001044113f8 cxxbridge1$string$len + 332888\n7   chromedriver                        0x0000000104864804 cxxbridge1$str$ptr + 2585200\n8   chromedriver                        0x0000000104867ad4 cxxbridge1$str$ptr + 2598208\n9   chromedriver                        0x0000000104845dd8 cxxbridge1$str$ptr + 2459716\n10  chromedriver                        0x000000010486834c cxxbridge1$str$ptr + 2600376\n11  chromedriver                        0x0000000104837664 cxxbridge1$str$ptr + 2400464\n12  chromedriver                        0x00000001048882b0 cxxbridge1$str$ptr + 2731292\n13  chromedriver                        0x000000010488843c cxxbridge1$str$ptr + 2731688\n14  chromedriver                        0x00000001048982f4 cxxbridge1$str$ptr + 2796896\n15  libsystem_pthread.dylib             0x0000000182b6ec0c _pthread_start + 136\n16  libsystem_pthread.dylib             0x0000000182b69b80 thread_start + 8\n",
     "output_type": "error",
     "traceback": [
      "\u001b[31m---------------------------------------------------------------------------\u001b[39m",
      "\u001b[31mElementNotInteractableException\u001b[39m           Traceback (most recent call last)",
      "\u001b[36mCell\u001b[39m\u001b[36m \u001b[39m\u001b[32mIn[5]\u001b[39m\u001b[32m, line 25\u001b[39m\n\u001b[32m     23\u001b[39m \u001b[38;5;66;03m# 2. Type \"Agriculture\" in the input box\u001b[39;00m\n\u001b[32m     24\u001b[39m industry_input = driver.find_element(By.ID, \u001b[33m\"\u001b[39m\u001b[33minTxt\u001b[39m\u001b[33m\"\u001b[39m)\n\u001b[32m---> \u001b[39m\u001b[32m25\u001b[39m \u001b[43mindustry_input\u001b[49m\u001b[43m.\u001b[49m\u001b[43mclear\u001b[49m\u001b[43m(\u001b[49m\u001b[43m)\u001b[49m\n\u001b[32m     26\u001b[39m industry_input.send_keys(\u001b[33m\"\u001b[39m\u001b[33mAutomotive\u001b[39m\u001b[33m\"\u001b[39m)\n\u001b[32m     27\u001b[39m time.sleep(\u001b[32m4\u001b[39m)\n",
      "\u001b[36mFile \u001b[39m\u001b[32m~/repos/data_science_env/lib/python3.12/site-packages/selenium/webdriver/remote/webelement.py:156\u001b[39m, in \u001b[36mWebElement.clear\u001b[39m\u001b[34m(self)\u001b[39m\n\u001b[32m    148\u001b[39m \u001b[38;5;28;01mdef\u001b[39;00m\u001b[38;5;250m \u001b[39m\u001b[34mclear\u001b[39m(\u001b[38;5;28mself\u001b[39m) -> \u001b[38;5;28;01mNone\u001b[39;00m:\n\u001b[32m    149\u001b[39m \u001b[38;5;250m    \u001b[39m\u001b[33;03m\"\"\"Clears the text if it's a text entry element.\u001b[39;00m\n\u001b[32m    150\u001b[39m \n\u001b[32m    151\u001b[39m \u001b[33;03m    Example:\u001b[39;00m\n\u001b[32m   (...)\u001b[39m\u001b[32m    154\u001b[39m \u001b[33;03m    >>> text_field.clear()\u001b[39;00m\n\u001b[32m    155\u001b[39m \u001b[33;03m    \"\"\"\u001b[39;00m\n\u001b[32m--> \u001b[39m\u001b[32m156\u001b[39m     \u001b[38;5;28;43mself\u001b[39;49m\u001b[43m.\u001b[49m\u001b[43m_execute\u001b[49m\u001b[43m(\u001b[49m\u001b[43mCommand\u001b[49m\u001b[43m.\u001b[49m\u001b[43mCLEAR_ELEMENT\u001b[49m\u001b[43m)\u001b[49m\n",
      "\u001b[36mFile \u001b[39m\u001b[32m~/repos/data_science_env/lib/python3.12/site-packages/selenium/webdriver/remote/webelement.py:574\u001b[39m, in \u001b[36mWebElement._execute\u001b[39m\u001b[34m(self, command, params)\u001b[39m\n\u001b[32m    572\u001b[39m     params = {}\n\u001b[32m    573\u001b[39m params[\u001b[33m\"\u001b[39m\u001b[33mid\u001b[39m\u001b[33m\"\u001b[39m] = \u001b[38;5;28mself\u001b[39m._id\n\u001b[32m--> \u001b[39m\u001b[32m574\u001b[39m \u001b[38;5;28;01mreturn\u001b[39;00m \u001b[38;5;28;43mself\u001b[39;49m\u001b[43m.\u001b[49m\u001b[43m_parent\u001b[49m\u001b[43m.\u001b[49m\u001b[43mexecute\u001b[49m\u001b[43m(\u001b[49m\u001b[43mcommand\u001b[49m\u001b[43m,\u001b[49m\u001b[43m \u001b[49m\u001b[43mparams\u001b[49m\u001b[43m)\u001b[49m\n",
      "\u001b[36mFile \u001b[39m\u001b[32m~/repos/data_science_env/lib/python3.12/site-packages/selenium/webdriver/remote/webdriver.py:447\u001b[39m, in \u001b[36mWebDriver.execute\u001b[39m\u001b[34m(self, driver_command, params)\u001b[39m\n\u001b[32m    445\u001b[39m response = \u001b[38;5;28mself\u001b[39m.command_executor.execute(driver_command, params)\n\u001b[32m    446\u001b[39m \u001b[38;5;28;01mif\u001b[39;00m response:\n\u001b[32m--> \u001b[39m\u001b[32m447\u001b[39m     \u001b[38;5;28;43mself\u001b[39;49m\u001b[43m.\u001b[49m\u001b[43merror_handler\u001b[49m\u001b[43m.\u001b[49m\u001b[43mcheck_response\u001b[49m\u001b[43m(\u001b[49m\u001b[43mresponse\u001b[49m\u001b[43m)\u001b[49m\n\u001b[32m    448\u001b[39m     response[\u001b[33m\"\u001b[39m\u001b[33mvalue\u001b[39m\u001b[33m\"\u001b[39m] = \u001b[38;5;28mself\u001b[39m._unwrap_value(response.get(\u001b[33m\"\u001b[39m\u001b[33mvalue\u001b[39m\u001b[33m\"\u001b[39m, \u001b[38;5;28;01mNone\u001b[39;00m))\n\u001b[32m    449\u001b[39m     \u001b[38;5;28;01mreturn\u001b[39;00m response\n",
      "\u001b[36mFile \u001b[39m\u001b[32m~/repos/data_science_env/lib/python3.12/site-packages/selenium/webdriver/remote/errorhandler.py:232\u001b[39m, in \u001b[36mErrorHandler.check_response\u001b[39m\u001b[34m(self, response)\u001b[39m\n\u001b[32m    230\u001b[39m         alert_text = value[\u001b[33m\"\u001b[39m\u001b[33malert\u001b[39m\u001b[33m\"\u001b[39m].get(\u001b[33m\"\u001b[39m\u001b[33mtext\u001b[39m\u001b[33m\"\u001b[39m)\n\u001b[32m    231\u001b[39m     \u001b[38;5;28;01mraise\u001b[39;00m exception_class(message, screen, stacktrace, alert_text)  \u001b[38;5;66;03m# type: ignore[call-arg]  # mypy is not smart enough here\u001b[39;00m\n\u001b[32m--> \u001b[39m\u001b[32m232\u001b[39m \u001b[38;5;28;01mraise\u001b[39;00m exception_class(message, screen, stacktrace)\n",
      "\u001b[31mElementNotInteractableException\u001b[39m: Message: element not interactable\n  (Session info: chrome=137.0.7151.41)\nStacktrace:\n0   chromedriver                        0x00000001048a03e0 cxxbridge1$str$ptr + 2829900\n1   chromedriver                        0x00000001048986a8 cxxbridge1$str$ptr + 2797844\n2   chromedriver                        0x00000001043d5e30 cxxbridge1$string$len + 89744\n3   chromedriver                        0x0000000104414cfc cxxbridge1$string$len + 347484\n4   chromedriver                        0x00000001044129a0 cxxbridge1$string$len + 338432\n5   chromedriver                        0x000000010445e044 cxxbridge1$string$len + 647332\n6   chromedriver                        0x00000001044113f8 cxxbridge1$string$len + 332888\n7   chromedriver                        0x0000000104864804 cxxbridge1$str$ptr + 2585200\n8   chromedriver                        0x0000000104867ad4 cxxbridge1$str$ptr + 2598208\n9   chromedriver                        0x0000000104845dd8 cxxbridge1$str$ptr + 2459716\n10  chromedriver                        0x000000010486834c cxxbridge1$str$ptr + 2600376\n11  chromedriver                        0x0000000104837664 cxxbridge1$str$ptr + 2400464\n12  chromedriver                        0x00000001048882b0 cxxbridge1$str$ptr + 2731292\n13  chromedriver                        0x000000010488843c cxxbridge1$str$ptr + 2731688\n14  chromedriver                        0x00000001048982f4 cxxbridge1$str$ptr + 2796896\n15  libsystem_pthread.dylib             0x0000000182b6ec0c _pthread_start + 136\n16  libsystem_pthread.dylib             0x0000000182b69b80 thread_start + 8\n"
     ]
    }
   ],
   "source": [
    "#### Industry ####\n",
    "driver.find_element(By.XPATH, \"//a[text()='Industry' and contains(@class, 'fesTabLinkFix')]\").click()\n",
    "time.sleep(4)\n",
    "\n",
    "# 2. Type \"Agriculture\" in the input box\n",
    "industry_input = driver.find_element(By.ID, \"inTxt\")\n",
    "industry_input.clear()\n",
    "industry_input.send_keys(\"Agriculture\")\n",
    "time.sleep(4)\n",
    "\n",
    "# 3. Click the blue play/search icon\n",
    "driver.find_element(By.ID, \"inLkp\").click()\n",
    "time.sleep(4)\n",
    "\n",
    "# 4. Click the \"Agriculture\" result\n",
    "driver.find_element(By.XPATH, \"//a[text()='Agriculture' and contains(@class, 'mnuItm')]\").click()\n",
    "time.sleep(4)\n"
   ]
  },
  {
   "cell_type": "code",
   "execution_count": 10,
   "metadata": {},
   "outputs": [],
   "source": [
    "# removing old industry when there's two of them\n",
    "last_industry = 'Agriculture'\n",
    "industry = 'Automotive'\n",
    "\n",
    "driver.find_element(By.XPATH, \"//a[text()='Industry' and contains(@class, 'fesTabLinkFix')]\").click()\n",
    "time.sleep(4)\n",
    "\n",
    "# 2. Type the industry name in the input box\n",
    "industry_input = driver.find_element(By.ID, \"inTxt\")\n",
    "industry_input.clear()\n",
    "industry_input.send_keys(industry)\n",
    "time.sleep(4)\n",
    "\n",
    "# 3. Click the blue play/search icon\n",
    "driver.find_element(By.ID, \"inLkp\").click()\n",
    "time.sleep(4)\n",
    "\n",
    "# 4. Click the search result matching the industry name\n",
    "driver.find_element(By.XPATH, f\"//a[text()='{industry}' and contains(@class, 'mnuItm')]\").click()\n",
    "time.sleep(4)\n",
    "\n",
    "old_label = driver.find_element(By.XPATH, f\"//span[text()='{last_industry}' and contains(@class, 'filterText')]\")\n",
    "old_label.click()\n",
    "time.sleep(1)\n",
    "\n",
    "# Click the adjacent 'Remove' button that appears in dropdown\n",
    "remove_button = driver.find_element(By.XPATH, \"//span[text()='Remove']\")\n",
    "remove_button.click()\n",
    "time.sleep(2)"
   ]
  },
  {
   "cell_type": "code",
   "execution_count": null,
   "metadata": {},
   "outputs": [
    {
     "name": "stdout",
     "output_type": "stream",
     "text": [
      "Selected via suggestion: Commodity/Financial Market News\n"
     ]
    },
    {
     "name": "stderr",
     "output_type": "stream",
     "text": [
      "[21121:4365836:0528/132703.003762:ERROR:google_apis/gcm/engine/registration_request.cc:291] Registration response error message: DEPRECATED_ENDPOINT\n"
     ]
    },
    {
     "name": "stdout",
     "output_type": "stream",
     "text": [
      "Selected via suggestion: Corporate/Industrial News\n",
      "Selected via suggestion: Economic News\n"
     ]
    }
   ],
   "source": [
    "#### Subject ####\n",
    "\n",
    "# Apply to all desired subjects\n",
    "subjects_to_add = [\n",
    "    \"Commodity/Financial Market News\",\n",
    "    \"Corporate/Industrial News\",\n",
    "    \"Economic News\"\n",
    "]\n",
    "\n",
    "def add_subject(subject_name):\n",
    "    # Ensure the Subject tab is open before calling this\n",
    "    subject_input = driver.find_element(By.ID, \"nsTxt\")\n",
    "    subject_input.clear()\n",
    "    subject_input.send_keys(subject_name)\n",
    "    time.sleep(4)\n",
    "\n",
    "    # Try clicking suggestion (strong) first\n",
    "    try:\n",
    "        driver.find_element(By.XPATH, f\"//strong[text()='{subject_name}']/ancestor::td\").click()\n",
    "        print(f\"Selected via suggestion: {subject_name}\")\n",
    "    except:\n",
    "        # Fallback: click direct <a> tag\n",
    "        driver.find_element(By.XPATH, f\"//a[text()='{subject_name}' and contains(@class, 'mnuItm')]\").click()\n",
    "        print(f\"Selected via <a>: {subject_name}\")\n",
    "    time.sleep(4)\n",
    "    \n",
    "    \n",
    "# Step 1: Open the Subject tab once\n",
    "driver.find_element(By.XPATH, \"//a[text()='Subject' and contains(@class, 'fesTabLinkFix')]\").click()\n",
    "time.sleep(4)\n",
    "\n",
    "for s in subjects_to_add:\n",
    "    add_subject(s)\n",
    "    \n",
    "# Step 3 (optional): Close the Subject tab by clicking it again\n",
    "driver.find_element(By.XPATH, \"//a[text()='Subject' and contains(@class, 'fesTabLinkFix')]\").click()\n",
    "time.sleep(4)"
   ]
  },
  {
   "cell_type": "code",
   "execution_count": 20,
   "metadata": {},
   "outputs": [],
   "source": [
    "# Add key search terms in search box at the top\n",
    "driver.execute_script(\"\"\"\n",
    "    let editor = ace.edit(document.getElementsByClassName('ace_editor')[0]);\n",
    "    editor.setValue('rst=tukn');\n",
    "\"\"\")\n"
   ]
  },
  {
   "cell_type": "code",
   "execution_count": 21,
   "metadata": {},
   "outputs": [],
   "source": [
    "# Remove some of the \"more options\"\n",
    "\n",
    "driver.find_element(By.XPATH, \"//a[contains(text(), 'More Options')]\").click()\n",
    "time.sleep(4)\n",
    "\n",
    "# Check the box if not already checked\n",
    "checkbox = driver.find_element(By.ID, \"isteo_bool\")\n",
    "if not checkbox.is_selected():\n",
    "    checkbox.click()\n",
    "    time.sleep(4)"
   ]
  },
  {
   "cell_type": "code",
   "execution_count": 22,
   "metadata": {},
   "outputs": [],
   "source": [
    "# Click the search button at the bottom\n",
    "time.sleep(4)\n",
    "driver.find_element(By.XPATH, '//*[@id=\"btnSearchBottom\"]').click()\n",
    "time.sleep(7)"
   ]
  },
  {
   "cell_type": "code",
   "execution_count": null,
   "metadata": {},
   "outputs": [
    {
     "name": "stdout",
     "output_type": "stream",
     "text": [
      "Number of results found: 16\n"
     ]
    }
   ],
   "source": [
    "'''\n",
    "wait = WebDriverWait(driver, 1)\n",
    "\n",
    "result_count_cell = wait.until(EC.presence_of_element_located((\n",
    "    By.XPATH,\n",
    "    \"//td[normalize-space()='Results Found']/following-sibling::td\"\n",
    ")))\n",
    "\n",
    "# Extract and print the count\n",
    "result_count = result_count_cell.text.strip()\n",
    "print(\"Number of results found:\", result_count)\n",
    "'''"
   ]
  },
  {
   "cell_type": "code",
   "execution_count": 41,
   "metadata": {},
   "outputs": [
    {
     "name": "stdout",
     "output_type": "stream",
     "text": [
      "{'Text': 'rst=tukn', 'Date': '01/01/2020 to 07/01/2020', 'Source': 'All Sources', 'Author': 'All Authors', 'Company': 'All Companies', 'Subject': 'Commodity/Financial Market News Or Corporate/Industrial News Or Economic News', 'Industry': 'Agriculture', 'Region': 'United Kingdom', 'Language': 'English', 'Results Found': '16', 'Timestamp': '28 May 2025 14:27'}\n"
     ]
    }
   ],
   "source": [
    "# Extract rows from the summary table\n",
    "summary_data = driver.find_elements(By.XPATH, \"//tbody/tr[td[@class='label']]\")\n",
    "\n",
    "summary_dict = {}\n",
    "for row in summary_data:\n",
    "    try:\n",
    "        key = row.find_element(By.XPATH, \"./td[1]\").text.strip()\n",
    "        value = row.find_element(By.XPATH, \"./td[2]\").text.strip()\n",
    "        summary_dict[key] = value\n",
    "    except:\n",
    "        continue\n",
    "        \n",
    "print(summary_dict)"
   ]
  },
  {
   "cell_type": "code",
   "execution_count": 42,
   "metadata": {},
   "outputs": [],
   "source": [
    "try:\n",
    "    dedup_value = driver.find_element(By.ID, \"dedupSummary\").text\n",
    "    summary_dict[\"Deduplication Summary\"] = dedup_value\n",
    "except:\n",
    "    summary_dict[\"Deduplication Summary\"] = \"\""
   ]
  },
  {
   "cell_type": "code",
   "execution_count": 43,
   "metadata": {},
   "outputs": [
    {
     "name": "stdout",
     "output_type": "stream",
     "text": [
      "Saved to factiva_results/Agriculture/2020-01-01_to_2020-01-07.csv\n"
     ]
    }
   ],
   "source": [
    "industry_name = 'Agriculture'\n",
    "filename = f\"{date_range['Start']}_to_{date_range['End']}.csv\"\n",
    "folder = f\"factiva_results/{industry_name}\"\n",
    "os.makedirs(folder, exist_ok=True)\n",
    "# Save as one-row CSV\n",
    "csv_path = os.path.join(folder, filename)\n",
    "with open(csv_path, \"w\", newline='', encoding=\"utf-8\") as f:\n",
    "    writer = csv.DictWriter(f, fieldnames=summary_dict.keys())\n",
    "    writer.writeheader()\n",
    "    writer.writerow(summary_dict)\n",
    "\n",
    "print(f\"Saved to {csv_path}\")"
   ]
  }
 ],
 "metadata": {
  "kernelspec": {
   "display_name": "data_science_env",
   "language": "python",
   "name": "python3"
  },
  "language_info": {
   "codemirror_mode": {
    "name": "ipython",
    "version": 3
   },
   "file_extension": ".py",
   "mimetype": "text/x-python",
   "name": "python",
   "nbconvert_exporter": "python",
   "pygments_lexer": "ipython3",
   "version": "3.12.0"
  }
 },
 "nbformat": 4,
 "nbformat_minor": 2
}
